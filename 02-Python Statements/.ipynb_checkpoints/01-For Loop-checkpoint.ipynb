{
 "cells": [
  {
   "cell_type": "raw",
   "metadata": {},
   "source": [
    "For Loop  -\n",
    "  For loop is python statement which executes a certain block of code for a specific number of times\n",
    "  \n",
    " - Many objects in python are iterable .\n",
    "  Iterable meaning , we can iterate over them using loops and we can execute a block of code during every iteration.\n",
    "  \n",
    " Iterable - Performs an action on every element or during every iteration.\n",
    " \n",
    "Syntax - \n",
    "\n",
    "for(placeholder in objct):\n",
    "    #execute the block of every iteration"
   ]
  },
  {
   "cell_type": "code",
   "execution_count": 4,
   "metadata": {},
   "outputs": [
    {
     "name": "stdout",
     "output_type": "stream",
     "text": [
      "1\n",
      "hello\n",
      "\n",
      "2\n",
      "hello\n",
      "\n",
      "3\n",
      "hello\n",
      "\n"
     ]
    }
   ],
   "source": [
    "#example\n",
    "list1 = [1,2,3]\n",
    "\n",
    "for i in list1:\n",
    "    print(i)\n",
    "    print(\"hello\\n\")"
   ]
  },
  {
   "cell_type": "code",
   "execution_count": 9,
   "metadata": {},
   "outputs": [
    {
     "name": "stdout",
     "output_type": "stream",
     "text": [
      "odd 1\n",
      "even 2\n",
      "odd 3\n",
      "odd 5\n",
      "even 6\n",
      "odd 7\n",
      "even 8\n",
      "odd 9\n"
     ]
    }
   ],
   "source": [
    "#example , check for even\n",
    "list1=[1,2,3,5,6,7,8,9]\n",
    "for i in list1:\n",
    "    #check even\n",
    "    if (i%2==0):\n",
    "        print(\"even {}\".format(i))\n",
    "    #check odd\n",
    "    elif(i%2!=0):\n",
    "        print(f\"odd {i}\")"
   ]
  },
  {
   "cell_type": "code",
   "execution_count": 11,
   "metadata": {},
   "outputs": [
    {
     "name": "stdout",
     "output_type": "stream",
     "text": [
      "55\n"
     ]
    }
   ],
   "source": [
    "#example , sum of first 10 numbers\n",
    "\n",
    "list1=[1,2,3,4,5,6,7,8,9,10]\n",
    "count = 0\n",
    "for num in list1:\n",
    "    count = count + num\n",
    "print(count)"
   ]
  },
  {
   "cell_type": "code",
   "execution_count": 13,
   "metadata": {},
   "outputs": [
    {
     "name": "stdout",
     "output_type": "stream",
     "text": [
      "H\n",
      "e\n",
      "l\n",
      "l\n",
      "o\n",
      " \n",
      "P\n",
      "y\n",
      "t\n",
      "h\n",
      "o\n",
      "n\n"
     ]
    }
   ],
   "source": [
    "#iteration over a string\n",
    "\n",
    "name = \"Hello Python\"\n",
    "for letter in name:\n",
    "    print(letter)"
   ]
  },
  {
   "cell_type": "code",
   "execution_count": 16,
   "metadata": {},
   "outputs": [
    {
     "name": "stdout",
     "output_type": "stream",
     "text": [
      "(1, 2)\n",
      "(2, 4)\n",
      "(5, 6)\n"
     ]
    }
   ],
   "source": [
    "#tuple unpacking\n",
    "\n",
    "mylist = [(1,2),(2,4),(5,6)]\n",
    "\n",
    "for item in mylist:\n",
    "    print(item)"
   ]
  },
  {
   "cell_type": "code",
   "execution_count": 27,
   "metadata": {},
   "outputs": [
    {
     "name": "stdout",
     "output_type": "stream",
     "text": [
      "1\n",
      "2\n",
      "2\n",
      "4\n",
      "5\n",
      "6\n",
      "------prints only first numbers-------\n",
      "1\n",
      "2\n",
      "5\n",
      "------prints only last numbers-------\n",
      "2\n",
      "4\n",
      "6\n"
     ]
    }
   ],
   "source": [
    "for a,b in mylist:\n",
    "    print(a)\n",
    "    print(b)\n",
    "    \n",
    "#print only first number of every tuple\n",
    "print(\"------prints only first numbers-------\")\n",
    "for (a,b) in mylist:\n",
    "    print(a)\n",
    " \n",
    "\n",
    "#prints only last number of every tuple\n",
    "print(\"------prints only last numbers-------\")   \n",
    "for a,b in mylist:\n",
    "    print (b)"
   ]
  },
  {
   "cell_type": "code",
   "execution_count": 39,
   "metadata": {},
   "outputs": [
    {
     "name": "stdout",
     "output_type": "stream",
     "text": [
      "dict_keys(['key', 'key2'])\n",
      "-----print only keys--\n",
      "key\n",
      "key2\n",
      "-----prints only values---\n",
      "1\n",
      "2\n",
      "--prints both keys values-----\n",
      "('key', 1)\n",
      "('key2', 2)\n",
      "----dictionaries unpacking-----\n",
      "key 1\n",
      "key2 2\n"
     ]
    }
   ],
   "source": [
    "#example on dictionaries\n",
    "\n",
    "mydict = {\"key\":1,\"key2\":2}\n",
    "print(mydict.keys())\n",
    "print(\"-----print only keys--\")\n",
    "for keys in mydict.keys():\n",
    "    print(keys)\n",
    "print(\"-----prints only values---\")\n",
    "for values in mydict.values():\n",
    "    print(values)\n",
    "\n",
    "print(\"--prints both keys values-----\")\n",
    "\n",
    "for items in mydict.items():\n",
    "    print(items)\n",
    "print(\"----dictionaries unpacking-----\")\n",
    "for keys,values in mydict.items():\n",
    "    print(keys,values)"
   ]
  },
  {
   "cell_type": "code",
   "execution_count": null,
   "metadata": {},
   "outputs": [],
   "source": []
  }
 ],
 "metadata": {
  "kernelspec": {
   "display_name": "Python 3",
   "language": "python",
   "name": "python3"
  },
  "language_info": {
   "codemirror_mode": {
    "name": "ipython",
    "version": 3
   },
   "file_extension": ".py",
   "mimetype": "text/x-python",
   "name": "python",
   "nbconvert_exporter": "python",
   "pygments_lexer": "ipython3",
   "version": "3.7.6"
  }
 },
 "nbformat": 4,
 "nbformat_minor": 4
}
