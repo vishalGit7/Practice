{
 "cells": [
  {
   "cell_type": "raw",
   "metadata": {},
   "source": [
    "While Loop :\n",
    "  A statement in python which executes a certain block of code untill the condition is true.\n",
    "  \n",
    "  While Condition :\n",
    "      #execute \n",
    "      \n",
    "we can execute while block with else when you want a block to be executed when the condition mentioned in the while loop\n",
    "is not True"
   ]
  },
  {
   "cell_type": "code",
   "execution_count": 3,
   "metadata": {},
   "outputs": [
    {
     "name": "stdout",
     "output_type": "stream",
     "text": [
      "the current value of x is 0\n",
      "the current value of x is 1\n",
      "the current value of x is 2\n",
      "the current value of x is 3\n",
      "the current value of x is 4\n",
      "x is not equal to 5\n"
     ]
    }
   ],
   "source": [
    "#example\n",
    "\n",
    "x = 0\n",
    "while x < 5:\n",
    "    print(f\"the current value of x is {x}\")\n",
    "    x = x + 1\n",
    "else:\n",
    "    print(\"x is not equal to 5\")"
   ]
  },
  {
   "cell_type": "markdown",
   "metadata": {},
   "source": [
    "# BREAK CONTINUE PASS"
   ]
  },
  {
   "cell_type": "raw",
   "metadata": {},
   "source": [
    "Pass - \n",
    "  pass does nothing , it just passes the code execution to the next line\n",
    " \n",
    "continue - \n",
    "Continue skips that iteration and goes to the next iteration\n",
    "\n",
    "break - \n",
    "break exists from the loop\n",
    "\n",
    "\n"
   ]
  },
  {
   "cell_type": "code",
   "execution_count": 12,
   "metadata": {},
   "outputs": [
    {
     "name": "stdout",
     "output_type": "stream",
     "text": [
      "the current count is 0\n",
      "the current count is 1\n",
      "the current count is 2\n",
      "the current count is 3\n",
      "the current count is 4\n",
      "the current count is 5\n",
      "the current count is 6\n",
      "the current count is 7\n",
      "the current count is 8\n",
      "the current count is 9\n",
      "the current count is 10\n"
     ]
    }
   ],
   "source": [
    "#example\n",
    "\n",
    "count  = 0\n",
    "while count <= 10:\n",
    "    print(f\"the current count is {count}\")\n",
    "    count =  count + 1\n",
    "    if count%2==0:\n",
    "        pass #it does nothing\n",
    "    elif count%2!=0:\n",
    "        continue #it skips this block when the codition of elif is met and goes to the next iteration\n",
    "    else:\n",
    "        break\n",
    "        "
   ]
  },
  {
   "cell_type": "code",
   "execution_count": null,
   "metadata": {},
   "outputs": [],
   "source": []
  }
 ],
 "metadata": {
  "kernelspec": {
   "display_name": "Python 3",
   "language": "python",
   "name": "python3"
  },
  "language_info": {
   "codemirror_mode": {
    "name": "ipython",
    "version": 3
   },
   "file_extension": ".py",
   "mimetype": "text/x-python",
   "name": "python",
   "nbconvert_exporter": "python",
   "pygments_lexer": "ipython3",
   "version": "3.7.6"
  }
 },
 "nbformat": 4,
 "nbformat_minor": 4
}
