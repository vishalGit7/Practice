{
 "cells": [
  {
   "cell_type": "raw",
   "metadata": {},
   "source": [
    "If (condition ) :\n",
    "    #excute the code when the condition is true\n",
    "    \n",
    "else:\n",
    "    #executes when condition is false\n",
    "\n"
   ]
  },
  {
   "cell_type": "code",
   "execution_count": 1,
   "metadata": {},
   "outputs": [
    {
     "name": "stdout",
     "output_type": "stream",
     "text": [
      "the condition is true\n"
     ]
    }
   ],
   "source": [
    "#example \n",
    "\n",
    "if True:\n",
    "    print(\"the condition is true\")\n",
    "else:\n",
    "    print(\"the condition is false\")"
   ]
  },
  {
   "cell_type": "code",
   "execution_count": 2,
   "metadata": {},
   "outputs": [
    {
     "name": "stdout",
     "output_type": "stream",
     "text": [
      "True\n"
     ]
    }
   ],
   "source": [
    "#example\n",
    "if 3 > 2 :\n",
    "    print(True)\n",
    "else:\n",
    "    print(False)"
   ]
  },
  {
   "cell_type": "raw",
   "metadata": {},
   "source": [
    "#multiple condition\n",
    "\n",
    "if (condition1):\n",
    "    #execute when this condition is true\n",
    "elif(condition2):\n",
    "     #execute this block when condition2 is true\n",
    "     \n",
    "elif(condition3):\n",
    "    #when this condition3 is true\n",
    "else:\n",
    "    #executes when all the conditions are false"
   ]
  },
  {
   "cell_type": "code",
   "execution_count": 4,
   "metadata": {},
   "outputs": [
    {
     "name": "stdout",
     "output_type": "stream",
     "text": [
      "The cars here are cool\n"
     ]
    }
   ],
   "source": [
    "\n",
    "loc= \"autoshowroom\"\n",
    "if(loc == \"autoshowroom\"):\n",
    "    print(\"The cars here are cool\")\n",
    "elif(loc== \"malls\"):\n",
    "    print(\"the ambience here is cool\")\n",
    "else:\n",
    "    print(\"dont know\")"
   ]
  },
  {
   "cell_type": "code",
   "execution_count": null,
   "metadata": {},
   "outputs": [],
   "source": []
  }
 ],
 "metadata": {
  "kernelspec": {
   "display_name": "Python 3",
   "language": "python",
   "name": "python3"
  },
  "language_info": {
   "codemirror_mode": {
    "name": "ipython",
    "version": 3
   },
   "file_extension": ".py",
   "mimetype": "text/x-python",
   "name": "python",
   "nbconvert_exporter": "python",
   "pygments_lexer": "ipython3",
   "version": "3.7.6"
  }
 },
 "nbformat": 4,
 "nbformat_minor": 4
}
