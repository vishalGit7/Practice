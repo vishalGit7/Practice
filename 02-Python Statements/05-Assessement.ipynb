{
 "cells": [
  {
   "cell_type": "raw",
   "metadata": {},
   "source": [
    "Question - Use for, .split(), and if to create a Statement that will print out words that start with 's':\n",
    "\n",
    "st = 'Print only the words that start with s in this sentence'"
   ]
  },
  {
   "cell_type": "code",
   "execution_count": 1,
   "metadata": {},
   "outputs": [
    {
     "name": "stdout",
     "output_type": "stream",
     "text": [
      "start\n",
      "s\n",
      "sentence\n"
     ]
    }
   ],
   "source": [
    "#solution -\n",
    "st = 'Print only the words that start with s in this sentence'\n",
    "for i in st.split():\n",
    "    if i[0]==\"s\":\n",
    "        print(i)\n"
   ]
  },
  {
   "cell_type": "raw",
   "metadata": {},
   "source": [
    "que - \n",
    " Use a List Comprehension to create a list of all numbers between 1 and 50 that are divisible by 3.\n",
    "\n",
    "\n"
   ]
  },
  {
   "cell_type": "code",
   "execution_count": 2,
   "metadata": {},
   "outputs": [
    {
     "name": "stdout",
     "output_type": "stream",
     "text": [
      "[3, 6, 9, 12, 15, 18, 21, 24, 27, 30, 33, 36, 39, 42, 45, 48]\n"
     ]
    }
   ],
   "source": [
    "#solution -\n",
    "results  = [num for num in range(1,50) if num%3==0]\n",
    "print(results)"
   ]
  },
  {
   "cell_type": "raw",
   "metadata": {},
   "source": [
    "que - \n",
    " Go through the string below and if the length of a word is even print \"even!\"\n",
    "\n",
    "In [ ]:\n",
    "st = 'Print every word in this sentence that has an even number of letters'"
   ]
  },
  {
   "cell_type": "code",
   "execution_count": 3,
   "metadata": {},
   "outputs": [
    {
     "name": "stdout",
     "output_type": "stream",
     "text": [
      "['word', 'in', 'this', 'sentence', 'that', 'an', 'even', 'number', 'of']\n"
     ]
    }
   ],
   "source": [
    "#solution - \n",
    "st = 'Print every word in this sentence that has an even number of letters'\n",
    "results  =  [word for word in st.split() if len(word)%2==0]\n",
    "print(results)\n",
    "    "
   ]
  },
  {
   "cell_type": "raw",
   "metadata": {},
   "source": [
    "que - \n",
    " Write a program that prints the integers from 1 to 100. But for multiples of three print \"Fizz\" instead of the number, and for the multiples of five print \"Buzz\". For numbers which are multiples of both three and five print \"FizzBuzz\"."
   ]
  },
  {
   "cell_type": "code",
   "execution_count": 5,
   "metadata": {},
   "outputs": [
    {
     "name": "stdout",
     "output_type": "stream",
     "text": [
      "Fizz\n",
      "BUZZ\n",
      "Fizz\n",
      "Fizz\n",
      "BUZZ\n",
      "Fizz\n",
      "FizzBuzz 15\n",
      "Fizz\n",
      "BUZZ\n",
      "Fizz\n",
      "Fizz\n",
      "BUZZ\n",
      "Fizz\n",
      "FizzBuzz 30\n",
      "Fizz\n",
      "BUZZ\n",
      "Fizz\n",
      "Fizz\n",
      "BUZZ\n",
      "Fizz\n",
      "FizzBuzz 45\n",
      "Fizz\n",
      "BUZZ\n",
      "Fizz\n",
      "Fizz\n",
      "BUZZ\n",
      "Fizz\n",
      "FizzBuzz 60\n",
      "Fizz\n",
      "BUZZ\n",
      "Fizz\n",
      "Fizz\n",
      "BUZZ\n",
      "Fizz\n",
      "FizzBuzz 75\n",
      "Fizz\n",
      "BUZZ\n",
      "Fizz\n",
      "Fizz\n",
      "BUZZ\n",
      "Fizz\n",
      "FizzBuzz 90\n",
      "Fizz\n",
      "BUZZ\n",
      "Fizz\n",
      "Fizz\n"
     ]
    }
   ],
   "source": [
    "#solution - \n",
    "for num in range(1,100):\n",
    "    if num%3==0 and num%5==0 :\n",
    "        print(\"FizzBuzz\",num)\n",
    "        \n",
    "    elif num%3==0:\n",
    "        print(\"Fizz\")\n",
    "        \n",
    "    elif num%5==0:\n",
    "        print(\"BUZZ\")\n",
    "        "
   ]
  },
  {
   "cell_type": "raw",
   "metadata": {},
   "source": [
    "que -  \n",
    "Use List Comprehension to create a list of the first letters of every word in the string below:\n",
    "\n",
    "st = 'Create a list of the first letters of every word in this string'"
   ]
  },
  {
   "cell_type": "code",
   "execution_count": 8,
   "metadata": {},
   "outputs": [
    {
     "name": "stdout",
     "output_type": "stream",
     "text": [
      "['C', 'a', 'l', 'o', 't', 'f', 'l', 'o', 'e', 'w', 'i', 't', 's']\n"
     ]
    }
   ],
   "source": [
    "#solution \n",
    "st = 'Create a list of the first letters of every word in this string'\n",
    "results = [x[0] for x in st.split()]\n",
    "print(results)"
   ]
  },
  {
   "cell_type": "code",
   "execution_count": null,
   "metadata": {},
   "outputs": [],
   "source": []
  }
 ],
 "metadata": {
  "kernelspec": {
   "display_name": "Python 3",
   "language": "python",
   "name": "python3"
  },
  "language_info": {
   "codemirror_mode": {
    "name": "ipython",
    "version": 3
   },
   "file_extension": ".py",
   "mimetype": "text/x-python",
   "name": "python",
   "nbconvert_exporter": "python",
   "pygments_lexer": "ipython3",
   "version": "3.7.6"
  }
 },
 "nbformat": 4,
 "nbformat_minor": 4
}
