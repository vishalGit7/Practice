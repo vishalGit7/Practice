{
 "cells": [
  {
   "cell_type": "code",
   "execution_count": 2,
   "metadata": {},
   "outputs": [
    {
     "name": "stdout",
     "output_type": "stream",
     "text": [
      "Overwriting myfile.txt\n"
     ]
    }
   ],
   "source": [
    "%%writefile myfile.txt\n",
    "Please note this only works in jupyter notebook\n",
    "the file is created with myfile.txt"
   ]
  },
  {
   "cell_type": "code",
   "execution_count": 4,
   "metadata": {},
   "outputs": [],
   "source": [
    "myfile = open(\"myfile.txt\")"
   ]
  },
  {
   "cell_type": "code",
   "execution_count": 5,
   "metadata": {},
   "outputs": [
    {
     "data": {
      "text/plain": [
       "'C:\\\\Users\\\\visha\\\\OneDrive\\\\Desktop\\\\Python\\\\00-Python Objects and Data strctures'"
      ]
     },
     "execution_count": 5,
     "metadata": {},
     "output_type": "execute_result"
    }
   ],
   "source": [
    "pwd\n"
   ]
  },
  {
   "cell_type": "code",
   "execution_count": 6,
   "metadata": {},
   "outputs": [
    {
     "data": {
      "text/plain": [
       "'Please note this only works in jupyter notebook\\nthe file is created with myfile.txt\\n'"
      ]
     },
     "execution_count": 6,
     "metadata": {},
     "output_type": "execute_result"
    }
   ],
   "source": [
    "myfile.read()"
   ]
  },
  {
   "cell_type": "code",
   "execution_count": 7,
   "metadata": {},
   "outputs": [
    {
     "data": {
      "text/plain": [
       "0"
      ]
     },
     "execution_count": 7,
     "metadata": {},
     "output_type": "execute_result"
    }
   ],
   "source": [
    "myfile.seek(0) #when you read the file for the first time the cursor starts from begining to the end of file, \n",
    "            #and when you again read the file there would nothing to read hence we use seek to move the cursor\n",
    "            #to the first position"
   ]
  },
  {
   "cell_type": "code",
   "execution_count": 12,
   "metadata": {},
   "outputs": [],
   "source": [
    "myfile.seek(0)\n",
    "myfile.readlines()   #read lines creates a list with each line in the file\n",
    "myfile.close()"
   ]
  },
  {
   "cell_type": "code",
   "execution_count": 14,
   "metadata": {},
   "outputs": [
    {
     "name": "stdout",
     "output_type": "stream",
     "text": [
      "Please note this only works in jupyter notebook\n",
      "the file is created with myfile.txt\n",
      "\n"
     ]
    }
   ],
   "source": [
    "with open(\"myfile.txt\") as my_new_file:\n",
    "    content =  my_new_file.read()\n",
    "    print(content)"
   ]
  },
  {
   "cell_type": "code",
   "execution_count": 16,
   "metadata": {},
   "outputs": [
    {
     "name": "stdout",
     "output_type": "stream",
     "text": [
      "Please note this only works in jupyter notebook\n",
      "the file is created with myfile.txt\n",
      "\n"
     ]
    }
   ],
   "source": [
    "#with this method no need to worry about closing and seek method\n",
    "with open(\"myfile.txt\") as my_new_file:\n",
    "    content =  my_new_file.read()\n",
    "    print(content)"
   ]
  },
  {
   "cell_type": "code",
   "execution_count": 18,
   "metadata": {},
   "outputs": [
    {
     "name": "stdout",
     "output_type": "stream",
     "text": [
      "Please note this only works in jupyter notebook\n",
      "the file is created with myfile.txt\n",
      "\n"
     ]
    }
   ],
   "source": [
    "#open the file in read mode\n",
    "with open(\"myfile.txt\",mode=\"r\") as my_new_file:\n",
    "    content = my_new_file.read()\n",
    "    print(content)"
   ]
  },
  {
   "cell_type": "code",
   "execution_count": 24,
   "metadata": {},
   "outputs": [],
   "source": [
    "#open a file in write mode\n",
    "#but \"w\" will overwrite the original content\n",
    "# in \"w\" if the file is not present it will create a new file\n",
    "with open(\"mynewfile.txt\",mode=\"w\") as mynewfile:\n",
    "    mynewfile.write(\"this is new content in the file\")\n",
    "    "
   ]
  },
  {
   "cell_type": "code",
   "execution_count": 26,
   "metadata": {},
   "outputs": [
    {
     "name": "stdout",
     "output_type": "stream",
     "text": [
      "this is new content in the file\n"
     ]
    }
   ],
   "source": [
    "#read the new file\n",
    "with open(\"mynewfile.txt\",mode=\"r\") as mynewfile:\n",
    "    print(mynewfile.read())"
   ]
  },
  {
   "cell_type": "code",
   "execution_count": 27,
   "metadata": {},
   "outputs": [],
   "source": [
    "#append a content in a file\n",
    "with open(\"mynewfile.txt\",mode=\"a\") as appendfile:\n",
    "    appendfile.write(\"\\n this line is appended\")"
   ]
  },
  {
   "cell_type": "code",
   "execution_count": 28,
   "metadata": {},
   "outputs": [
    {
     "data": {
      "text/plain": [
       "['this is new content in the file\\n', ' this line is appended']"
      ]
     },
     "execution_count": 28,
     "metadata": {},
     "output_type": "execute_result"
    }
   ],
   "source": [
    "#read what we appended\n",
    "myfile = open(\"mynewfile.txt\")\n",
    "myfile.readlines()"
   ]
  },
  {
   "cell_type": "code",
   "execution_count": 29,
   "metadata": {},
   "outputs": [],
   "source": [
    "myfile.close()"
   ]
  },
  {
   "cell_type": "code",
   "execution_count": 1,
   "metadata": {},
   "outputs": [
    {
     "name": "stdout",
     "output_type": "stream",
     "text": [
      "this is new content in the file\n",
      "\n",
      " this line is appended\n"
     ]
    }
   ],
   "source": [
    "for line in open(\"mynewfile.txt\"):\n",
    "    print(line)"
   ]
  },
  {
   "cell_type": "code",
   "execution_count": 4,
   "metadata": {},
   "outputs": [
    {
     "data": {
      "text/plain": [
       "'this is new content in the file\\n this line is appended'"
      ]
     },
     "execution_count": 4,
     "metadata": {},
     "output_type": "execute_result"
    }
   ],
   "source": [
    "myfile = open(\"mynewfile.txt\",mode=\"a+\")\n",
    "myfile.seek(0)\n",
    "myfile.read()"
   ]
  },
  {
   "cell_type": "code",
   "execution_count": 6,
   "metadata": {},
   "outputs": [],
   "source": [
    "myfile.close()"
   ]
  },
  {
   "cell_type": "code",
   "execution_count": null,
   "metadata": {},
   "outputs": [],
   "source": []
  }
 ],
 "metadata": {
  "kernelspec": {
   "display_name": "Python 3",
   "language": "python",
   "name": "python3"
  },
  "language_info": {
   "codemirror_mode": {
    "name": "ipython",
    "version": 3
   },
   "file_extension": ".py",
   "mimetype": "text/x-python",
   "name": "python",
   "nbconvert_exporter": "python",
   "pygments_lexer": "ipython3",
   "version": "3.7.6"
  }
 },
 "nbformat": 4,
 "nbformat_minor": 4
}
