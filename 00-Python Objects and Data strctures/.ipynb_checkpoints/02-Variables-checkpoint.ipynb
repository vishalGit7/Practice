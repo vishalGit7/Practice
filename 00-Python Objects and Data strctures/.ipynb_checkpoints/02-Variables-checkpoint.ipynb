{
 "cells": [
  {
   "cell_type": "markdown",
   "metadata": {},
   "source": [
    "Varialble - A variable is a name given to a memory location which stores values of any data type and the values can be changed in the runtime based on the scope.\n",
    "\n",
    "There are set of rules for defining a variables\n",
    "1)Varible can not start with numbers but can have numbers in beteween,\n",
    "  1vishal is wrong but vishal1 is correct\n",
    "\n",
    "2)Variable name can not have space in between but can have an underscore( _ ) inbetween\n",
    "\n",
    "3)Variable name are case sensitive \n",
    " that means \n",
    " name = \"vishal\"\n",
    " Name   = \"VISHAL\" are different\n",
    " \n",
    "3)can not have any special characters in between like $%%^&*!#\n",
    "\n",
    "4)We can reassign the variables values during runtime"
   ]
  },
  {
   "cell_type": "code",
   "execution_count": 2,
   "metadata": {},
   "outputs": [
    {
     "name": "stdout",
     "output_type": "stream",
     "text": [
      "<class 'str'>\n"
     ]
    },
    {
     "data": {
      "text/plain": [
       "str"
      ]
     },
     "execution_count": 2,
     "metadata": {},
     "output_type": "execute_result"
    }
   ],
   "source": [
    "myname = \"vishal\"\n",
    "print(type(myname))\n",
    "type(myname)"
   ]
  },
  {
   "cell_type": "code",
   "execution_count": 3,
   "metadata": {},
   "outputs": [],
   "source": [
    "my_income = 100\n",
    "my_taxrate = 2\n",
    "\n",
    "my_total_tax = 100*2/(100)"
   ]
  },
  {
   "cell_type": "code",
   "execution_count": 4,
   "metadata": {},
   "outputs": [
    {
     "name": "stdout",
     "output_type": "stream",
     "text": [
      "2.0\n"
     ]
    }
   ],
   "source": [
    "print(my_total_tax)"
   ]
  },
  {
   "cell_type": "code",
   "execution_count": null,
   "metadata": {},
   "outputs": [],
   "source": []
  }
 ],
 "metadata": {
  "kernelspec": {
   "display_name": "Python 3",
   "language": "python",
   "name": "python3"
  },
  "language_info": {
   "codemirror_mode": {
    "name": "ipython",
    "version": 3
   },
   "file_extension": ".py",
   "mimetype": "text/x-python",
   "name": "python",
   "nbconvert_exporter": "python",
   "pygments_lexer": "ipython3",
   "version": "3.7.6"
  }
 },
 "nbformat": 4,
 "nbformat_minor": 4
}
