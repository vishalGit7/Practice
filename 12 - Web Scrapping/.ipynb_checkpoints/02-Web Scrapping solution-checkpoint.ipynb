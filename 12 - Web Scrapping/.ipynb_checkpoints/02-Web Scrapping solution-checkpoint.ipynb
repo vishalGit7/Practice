{
 "cells": [
  {
   "cell_type": "markdown",
   "metadata": {},
   "source": [
    "# Web Scraping Exercises\n",
    "Complete the Tasks Below\n",
    "\n",
    "TASK: Import any libraries you think you'll need to scrape a website."
   ]
  },
  {
   "cell_type": "code",
   "execution_count": 3,
   "metadata": {},
   "outputs": [],
   "source": [
    "import requests\n",
    "import lxml\n",
    "import bs4"
   ]
  },
  {
   "cell_type": "code",
   "execution_count": null,
   "metadata": {},
   "outputs": [],
   "source": []
  },
  {
   "cell_type": "markdown",
   "metadata": {},
   "source": [
    "# TASK: Use requests library and BeautifulSoup to connect to http://quotes.toscrape.com/ and get the HMTL text from the homepage."
   ]
  },
  {
   "cell_type": "code",
   "execution_count": 38,
   "metadata": {},
   "outputs": [],
   "source": [
    "result = requests.get(\"http://quotes.toscrape.com/\")\n",
    "\n",
    "soup = bs4.BeautifulSoup(result.text,\"lxml\")\n",
    "\n",
    "#soup"
   ]
  },
  {
   "cell_type": "code",
   "execution_count": null,
   "metadata": {},
   "outputs": [],
   "source": []
  },
  {
   "cell_type": "markdown",
   "metadata": {},
   "source": [
    "# TASK: Get the names of all the authors on the first page."
   ]
  },
  {
   "cell_type": "code",
   "execution_count": 28,
   "metadata": {},
   "outputs": [],
   "source": [
    "authors=soup.select(\"small\")"
   ]
  },
  {
   "cell_type": "code",
   "execution_count": 29,
   "metadata": {},
   "outputs": [
    {
     "name": "stdout",
     "output_type": "stream",
     "text": [
      "Albert Einstein\n",
      "J.K. Rowling\n",
      "Albert Einstein\n",
      "Jane Austen\n",
      "Marilyn Monroe\n",
      "Albert Einstein\n",
      "André Gide\n",
      "Thomas A. Edison\n",
      "Eleanor Roosevelt\n",
      "Steve Martin\n"
     ]
    }
   ],
   "source": [
    "for authorname in authors:\n",
    "    print(authorname.getText())"
   ]
  },
  {
   "cell_type": "code",
   "execution_count": null,
   "metadata": {},
   "outputs": [],
   "source": []
  },
  {
   "cell_type": "markdown",
   "metadata": {},
   "source": [
    "# TASK: Create a list of all the quotes on the first page."
   ]
  },
  {
   "cell_type": "code",
   "execution_count": 30,
   "metadata": {},
   "outputs": [],
   "source": [
    "quotes = soup.select(\".text\")"
   ]
  },
  {
   "cell_type": "code",
   "execution_count": 32,
   "metadata": {},
   "outputs": [],
   "source": [
    "all_quotes_on_first_page=[]\n",
    "for quote in quotes:\n",
    "    all_quotes_on_first_page.append(quote.getText())"
   ]
  },
  {
   "cell_type": "code",
   "execution_count": 33,
   "metadata": {},
   "outputs": [
    {
     "data": {
      "text/plain": [
       "['“The world as we have created it is a process of our thinking. It cannot be changed without changing our thinking.”',\n",
       " '“It is our choices, Harry, that show what we truly are, far more than our abilities.”',\n",
       " '“There are only two ways to live your life. One is as though nothing is a miracle. The other is as though everything is a miracle.”',\n",
       " '“The person, be it gentleman or lady, who has not pleasure in a good novel, must be intolerably stupid.”',\n",
       " \"“Imperfection is beauty, madness is genius and it's better to be absolutely ridiculous than absolutely boring.”\",\n",
       " '“Try not to become a man of success. Rather become a man of value.”',\n",
       " '“It is better to be hated for what you are than to be loved for what you are not.”',\n",
       " \"“I have not failed. I've just found 10,000 ways that won't work.”\",\n",
       " \"“A woman is like a tea bag; you never know how strong it is until it's in hot water.”\",\n",
       " '“A day without sunshine is like, you know, night.”']"
      ]
     },
     "execution_count": 33,
     "metadata": {},
     "output_type": "execute_result"
    }
   ],
   "source": [
    "all_quotes_on_first_page"
   ]
  },
  {
   "cell_type": "code",
   "execution_count": null,
   "metadata": {},
   "outputs": [],
   "source": []
  },
  {
   "cell_type": "markdown",
   "metadata": {},
   "source": [
    "# TASK: Inspect the site and use Beautiful Soup to extract the top ten tags from the requests text shown on the top right from the home page (e.g Love,Inspirational,Life, etc...). HINT: Keep in mind there are also tags underneath each quote, try to find a class only present in the top right tags, perhaps check the span."
   ]
  },
  {
   "cell_type": "code",
   "execution_count": 37,
   "metadata": {},
   "outputs": [
    {
     "name": "stdout",
     "output_type": "stream",
     "text": [
      "\n",
      "love\n",
      "\n",
      "\n",
      "inspirational\n",
      "\n",
      "\n",
      "life\n",
      "\n",
      "\n",
      "humor\n",
      "\n",
      "\n",
      "books\n",
      "\n",
      "\n",
      "reading\n",
      "\n",
      "\n",
      "friendship\n",
      "\n",
      "\n",
      "friends\n",
      "\n",
      "\n",
      "truth\n",
      "\n",
      "\n",
      "simile\n",
      "\n"
     ]
    }
   ],
   "source": [
    "top_ten=soup.select(\".tag-item\")\n",
    "for tag in top_ten:\n",
    "    print(tag.getText())"
   ]
  },
  {
   "cell_type": "code",
   "execution_count": null,
   "metadata": {},
   "outputs": [],
   "source": []
  },
  {
   "cell_type": "markdown",
   "metadata": {},
   "source": [
    "TASK: Notice how there is more than one page, and subsequent pages look like this http://quotes.toscrape.com/page/2/. Use what you know about for loops and string concatenation to loop through all the pages and get all the unique authors on the website. Keep in mind there are many ways to achieve this, also note that you will need to somehow figure out how to check that your loop is on the last page with quotes. For debugging purposes, I will let you know that there are only 10 pages, so the last page is http://quotes.toscrape.com/page/10/, but try to create a loop that is robust enough that it wouldn't matter to know the amount of pages beforehand, perhaps use try/except for this, its up to you!"
   ]
  },
  {
   "cell_type": "code",
   "execution_count": 7,
   "metadata": {},
   "outputs": [],
   "source": [
    "BASE_URL = \"https://quotes.toscrape.com/page/{}/\"\n"
   ]
  },
  {
   "cell_type": "code",
   "execution_count": 40,
   "metadata": {},
   "outputs": [],
   "source": [
    "current_url = BASE_URL.format(1)"
   ]
  },
  {
   "cell_type": "code",
   "execution_count": 19,
   "metadata": {},
   "outputs": [],
   "source": [
    "#solution with when we know the number of solutions\n",
    "author_name=[]\n",
    "for i in range(1,11):\n",
    "    current_url = BASE_URL.format(i)\n",
    "    result = requests.get(current_url)\n",
    "    soup = bs4.BeautifulSoup(result.text,\"lxml\")\n",
    "    authors_tag = soup.select(\"small\")\n",
    "    for author in authors_tag:\n",
    "        if author.getText() not in author_name:\n",
    "            author_name.append(author.getText())\n",
    "        else:\n",
    "            continue\n",
    "    "
   ]
  },
  {
   "cell_type": "code",
   "execution_count": 20,
   "metadata": {},
   "outputs": [
    {
     "data": {
      "text/plain": [
       "['Albert Einstein',\n",
       " 'J.K. Rowling',\n",
       " 'Jane Austen',\n",
       " 'Marilyn Monroe',\n",
       " 'André Gide',\n",
       " 'Thomas A. Edison',\n",
       " 'Eleanor Roosevelt',\n",
       " 'Steve Martin',\n",
       " 'Bob Marley',\n",
       " 'Dr. Seuss',\n",
       " 'Douglas Adams',\n",
       " 'Elie Wiesel',\n",
       " 'Friedrich Nietzsche',\n",
       " 'Mark Twain',\n",
       " 'Allen Saunders',\n",
       " 'Pablo Neruda',\n",
       " 'Ralph Waldo Emerson',\n",
       " 'Mother Teresa',\n",
       " 'Garrison Keillor',\n",
       " 'Jim Henson',\n",
       " 'Charles M. Schulz',\n",
       " 'William Nicholson',\n",
       " 'Jorge Luis Borges',\n",
       " 'George Eliot',\n",
       " 'George R.R. Martin',\n",
       " 'C.S. Lewis',\n",
       " 'Martin Luther King Jr.',\n",
       " 'James Baldwin',\n",
       " 'Haruki Murakami',\n",
       " 'Alexandre Dumas fils',\n",
       " 'Stephenie Meyer',\n",
       " 'Ernest Hemingway',\n",
       " 'Helen Keller',\n",
       " 'George Bernard Shaw',\n",
       " 'Charles Bukowski',\n",
       " 'Suzanne Collins',\n",
       " 'J.R.R. Tolkien',\n",
       " 'Alfred Tennyson',\n",
       " 'Terry Pratchett',\n",
       " 'J.D. Salinger',\n",
       " 'George Carlin',\n",
       " 'John Lennon',\n",
       " 'W.C. Fields',\n",
       " 'Ayn Rand',\n",
       " 'Jimi Hendrix',\n",
       " 'J.M. Barrie',\n",
       " 'E.E. Cummings',\n",
       " 'Khaled Hosseini',\n",
       " 'Harper Lee',\n",
       " \"Madeleine L'Engle\"]"
      ]
     },
     "execution_count": 20,
     "metadata": {},
     "output_type": "execute_result"
    }
   ],
   "source": [
    "author_name"
   ]
  },
  {
   "cell_type": "code",
   "execution_count": 28,
   "metadata": {},
   "outputs": [
    {
     "name": "stdout",
     "output_type": "stream",
     "text": [
      "https://quotes.toscrape.com/page/1/\n",
      "https://quotes.toscrape.com/page/2/\n",
      "https://quotes.toscrape.com/page/3/\n",
      "https://quotes.toscrape.com/page/4/\n",
      "https://quotes.toscrape.com/page/5/\n",
      "https://quotes.toscrape.com/page/6/\n",
      "https://quotes.toscrape.com/page/7/\n",
      "https://quotes.toscrape.com/page/8/\n",
      "https://quotes.toscrape.com/page/9/\n",
      "https://quotes.toscrape.com/page/10/\n"
     ]
    },
    {
     "data": {
      "text/plain": [
       "['Albert Einstein',\n",
       " 'J.K. Rowling',\n",
       " 'Jane Austen',\n",
       " 'Marilyn Monroe',\n",
       " 'André Gide',\n",
       " 'Thomas A. Edison',\n",
       " 'Eleanor Roosevelt',\n",
       " 'Steve Martin',\n",
       " 'Bob Marley',\n",
       " 'Dr. Seuss',\n",
       " 'Douglas Adams',\n",
       " 'Elie Wiesel',\n",
       " 'Friedrich Nietzsche',\n",
       " 'Mark Twain',\n",
       " 'Allen Saunders',\n",
       " 'Pablo Neruda',\n",
       " 'Ralph Waldo Emerson',\n",
       " 'Mother Teresa',\n",
       " 'Garrison Keillor',\n",
       " 'Jim Henson',\n",
       " 'Charles M. Schulz',\n",
       " 'William Nicholson',\n",
       " 'Jorge Luis Borges',\n",
       " 'George Eliot',\n",
       " 'George R.R. Martin',\n",
       " 'C.S. Lewis',\n",
       " 'Martin Luther King Jr.',\n",
       " 'James Baldwin',\n",
       " 'Haruki Murakami',\n",
       " 'Alexandre Dumas fils',\n",
       " 'Stephenie Meyer',\n",
       " 'Ernest Hemingway',\n",
       " 'Helen Keller',\n",
       " 'George Bernard Shaw',\n",
       " 'Charles Bukowski',\n",
       " 'Suzanne Collins',\n",
       " 'J.R.R. Tolkien',\n",
       " 'Alfred Tennyson',\n",
       " 'Terry Pratchett',\n",
       " 'J.D. Salinger',\n",
       " 'George Carlin',\n",
       " 'John Lennon',\n",
       " 'W.C. Fields',\n",
       " 'Ayn Rand',\n",
       " 'Jimi Hendrix',\n",
       " 'J.M. Barrie',\n",
       " 'E.E. Cummings',\n",
       " 'Khaled Hosseini',\n",
       " 'Harper Lee',\n",
       " \"Madeleine L'Engle\"]"
      ]
     },
     "execution_count": 28,
     "metadata": {},
     "output_type": "execute_result"
    }
   ],
   "source": [
    "#robut solution when page number not known\n",
    "page_num = 1\n",
    "flag=True\n",
    "author_name=[]\n",
    "while flag:\n",
    "    current_url = BASE_URL.format(page_num)\n",
    "    result = requests.get(current_url)\n",
    "    soup = bs4.BeautifulSoup(result.text,\"lxml\")\n",
    "    if \"No quotes found!\" in str(soup):\n",
    "        flag=False\n",
    "        break\n",
    "        \n",
    "    else:\n",
    "        #current_url = BASE_URL.format(i)\n",
    "        #result = requests.get(current_url)\n",
    "        #soup = bs4.BeautifulSoup(result.text,\"lxml\")\n",
    "        authors_tag = soup.select(\"small\")\n",
    "        for author in authors_tag:\n",
    "            if author.getText() not in author_name:  #for unique others\n",
    "                author_name.append(author.getText())\n",
    "            else:\n",
    "                continue\n",
    "\n",
    "    print(current_url)\n",
    "    page_num = page_num + 1 #go to next page\n",
    "author_name"
   ]
  },
  {
   "cell_type": "code",
   "execution_count": null,
   "metadata": {},
   "outputs": [],
   "source": []
  },
  {
   "cell_type": "code",
   "execution_count": 4,
   "metadata": {},
   "outputs": [],
   "source": []
  },
  {
   "cell_type": "code",
   "execution_count": null,
   "metadata": {},
   "outputs": [],
   "source": [
    "\n",
    "\n"
   ]
  },
  {
   "cell_type": "code",
   "execution_count": null,
   "metadata": {},
   "outputs": [],
   "source": []
  }
 ],
 "metadata": {
  "kernelspec": {
   "display_name": "Python 3",
   "language": "python",
   "name": "python3"
  },
  "language_info": {
   "codemirror_mode": {
    "name": "ipython",
    "version": 3
   },
   "file_extension": ".py",
   "mimetype": "text/x-python",
   "name": "python",
   "nbconvert_exporter": "python",
   "pygments_lexer": "ipython3",
   "version": "3.7.6"
  }
 },
 "nbformat": 4,
 "nbformat_minor": 4
}
